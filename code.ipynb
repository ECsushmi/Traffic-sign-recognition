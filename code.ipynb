{
 "cells": [
  {
   "cell_type": "code",
   "execution_count": 3,
   "id": "2d1c1373",
   "metadata": {},
   "outputs": [],
   "source": [
    "import numpy as np\n",
    "import pandas as pd\n",
    "import matplotlib.pyplot as plt\n",
    "import cv2\n",
    "import tensorflow as tf\n",
    "from PIL import Image\n",
    "from sklearn.model_selection import train_test_split\n",
    "from keras.utils import to_categorical\n",
    "from keras.models import Sequential, load_model\n",
    "from keras.layers import Conv2D, MaxPool2D, Dense, Flatten, Dropout\n",
    "import os\n",
    "os.chdir(\"C:\\TrafficSign\")"
   ]
  },
  {
   "cell_type": "code",
   "execution_count": 4,
   "id": "3738f245",
   "metadata": {},
   "outputs": [],
   "source": [
    "data =[]\n",
    "labels = []\n",
    "classes =43 \n",
    "cur_path = os.getcwd()"
   ]
  },
  {
   "cell_type": "code",
   "execution_count": 5,
   "id": "f1a56d0c",
   "metadata": {},
   "outputs": [
    {
     "data": {
      "text/plain": [
       "'C:\\\\TrafficSign'"
      ]
     },
     "execution_count": 5,
     "metadata": {},
     "output_type": "execute_result"
    }
   ],
   "source": [
    "cur_path"
   ]
  },
  {
   "cell_type": "code",
   "execution_count": 6,
   "id": "fddc70bb",
   "metadata": {},
   "outputs": [],
   "source": [
    "for i in range(classes):     \n",
    "    path = os.path.join(cur_path,'train',str(i))     \n",
    "    images = os.listdir(path)\n",
    "    for a in images:\n",
    "        try:             \n",
    "            image = Image.open(path +'\\\\'+ a)             \n",
    "            image = image.resize((30,30)) \n",
    "            # Resizing all images into 30*30                                                 \n",
    "            image =np.array(image)             \n",
    "            data.append(image)             \n",
    "            labels.append(i)\n",
    "        except Exception as e:\n",
    "            print(e)"
   ]
  },
  {
   "cell_type": "code",
   "execution_count": 7,
   "id": "05e71639",
   "metadata": {},
   "outputs": [
    {
     "name": "stdout",
     "output_type": "stream",
     "text": [
      "(39209, 30, 30, 3) (39209,)\n"
     ]
    }
   ],
   "source": [
    "data = np.array(data) \n",
    "labels = np.array(labels)\n",
    "print(data.shape, labels.shape)"
   ]
  },
  {
   "cell_type": "code",
   "execution_count": 8,
   "id": "71990c12",
   "metadata": {},
   "outputs": [
    {
     "name": "stdout",
     "output_type": "stream",
     "text": [
      "(31367, 30, 30, 3) (7842, 30, 30, 3) (31367,) (7842,)\n"
     ]
    }
   ],
   "source": [
    "X_train, X_test, y_train, y_test =train_test_split(data, labels, test_size=0.2, random_state=0)\n",
    "print(X_train.shape, X_test.shape, y_train.shape, y_test.shape)"
   ]
  },
  {
   "cell_type": "code",
   "execution_count": 9,
   "id": "47f6c17a",
   "metadata": {},
   "outputs": [],
   "source": [
    "y_train = to_categorical(y_train,43) \n",
    "y_test = to_categorical(y_test,43)"
   ]
  },
  {
   "cell_type": "code",
   "execution_count": 10,
   "id": "d03b122a",
   "metadata": {},
   "outputs": [],
   "source": [
    "model =Sequential() \n",
    "model.add(Conv2D(filters=32, kernel_size=(5,5), activation='relu', input_shape=X_train.shape[1:])) \n",
    "model.add(Conv2D(filters=32, kernel_size=(5,5), activation='relu'))\n",
    "model.add(MaxPool2D(pool_size=(2,2))) \n",
    "model.add(Dropout(rate=0.25))\n",
    "model.add(Conv2D(filters=64, kernel_size=(3,3), activation='relu'))\n",
    "model.add(Conv2D(filters=64, kernel_size=(3,3), activation='relu')) \n",
    "model.add(MaxPool2D(pool_size=(2,2))) \n",
    "model.add(Dropout(rate=0.25)) \n",
    "model.add(Flatten()) \n",
    "model.add(Dense(256, activation='relu'))\n",
    "model.add(Dropout(rate=0.5))\n",
    "model.add(Dense(43, activation='softmax'))\n",
    "# We have 43 classes that's why we have defined 43in the dense model.add(Dense(43, activation='softmax'))"
   ]
  },
  {
   "cell_type": "code",
   "execution_count": 11,
   "id": "5fe46a28",
   "metadata": {},
   "outputs": [],
   "source": [
    "model.compile(loss='categorical_crossentropy', optimizer='adam', metrics=['accuracy']) "
   ]
  },
  {
   "cell_type": "code",
   "execution_count": 12,
   "id": "19ae23c7",
   "metadata": {
    "scrolled": true
   },
   "outputs": [
    {
     "name": "stdout",
     "output_type": "stream",
     "text": [
      "Epoch 1/20\n",
      "981/981 [==============================] - 67s 68ms/step - loss: 1.8418 - accuracy: 0.5321 - val_loss: 0.5088 - val_accuracy: 0.8634\n",
      "Epoch 2/20\n",
      "981/981 [==============================] - 67s 69ms/step - loss: 0.8116 - accuracy: 0.7580 - val_loss: 0.3184 - val_accuracy: 0.8961\n",
      "Epoch 3/20\n",
      "981/981 [==============================] - 66s 68ms/step - loss: 0.5926 - accuracy: 0.8209 - val_loss: 0.2286 - val_accuracy: 0.9350\n",
      "Epoch 4/20\n",
      "981/981 [==============================] - 65s 67ms/step - loss: 0.4608 - accuracy: 0.8611 - val_loss: 0.2445 - val_accuracy: 0.9337\n",
      "Epoch 5/20\n",
      "981/981 [==============================] - 67s 68ms/step - loss: 0.3735 - accuracy: 0.8872 - val_loss: 0.1413 - val_accuracy: 0.9606\n",
      "Epoch 6/20\n",
      "981/981 [==============================] - 65s 67ms/step - loss: 0.3304 - accuracy: 0.9023 - val_loss: 0.1390 - val_accuracy: 0.9578\n",
      "Epoch 7/20\n",
      "981/981 [==============================] - 70s 71ms/step - loss: 0.2975 - accuracy: 0.9126 - val_loss: 0.0934 - val_accuracy: 0.9744\n",
      "Epoch 8/20\n",
      "981/981 [==============================] - 68s 70ms/step - loss: 0.2769 - accuracy: 0.9197 - val_loss: 0.1453 - val_accuracy: 0.9551\n",
      "Epoch 9/20\n",
      "981/981 [==============================] - 71s 73ms/step - loss: 0.2600 - accuracy: 0.9246 - val_loss: 0.0965 - val_accuracy: 0.9727\n",
      "Epoch 10/20\n",
      "981/981 [==============================] - 65s 66ms/step - loss: 0.2375 - accuracy: 0.9302 - val_loss: 0.0755 - val_accuracy: 0.9819\n",
      "Epoch 11/20\n",
      "981/981 [==============================] - 65s 66ms/step - loss: 0.2486 - accuracy: 0.9290 - val_loss: 0.0718 - val_accuracy: 0.9792\n",
      "Epoch 12/20\n",
      "981/981 [==============================] - 67s 69ms/step - loss: 0.2142 - accuracy: 0.9379 - val_loss: 0.0948 - val_accuracy: 0.9730\n",
      "Epoch 13/20\n",
      "981/981 [==============================] - 66s 68ms/step - loss: 0.2222 - accuracy: 0.9358 - val_loss: 0.0530 - val_accuracy: 0.9851\n",
      "Epoch 14/20\n",
      "981/981 [==============================] - 71s 72ms/step - loss: 0.2021 - accuracy: 0.9430 - val_loss: 0.0860 - val_accuracy: 0.9763\n",
      "Epoch 15/20\n",
      "981/981 [==============================] - 69s 70ms/step - loss: 0.2068 - accuracy: 0.9415 - val_loss: 0.0640 - val_accuracy: 0.9818\n",
      "Epoch 16/20\n",
      "981/981 [==============================] - 66s 68ms/step - loss: 0.2175 - accuracy: 0.9393 - val_loss: 0.0693 - val_accuracy: 0.9805\n",
      "Epoch 17/20\n",
      "981/981 [==============================] - 66s 67ms/step - loss: 0.1980 - accuracy: 0.9434 - val_loss: 0.0794 - val_accuracy: 0.9784\n",
      "Epoch 18/20\n",
      "981/981 [==============================] - 65s 66ms/step - loss: 0.1971 - accuracy: 0.9465 - val_loss: 0.0795 - val_accuracy: 0.9791\n",
      "Epoch 19/20\n",
      "981/981 [==============================] - 68s 69ms/step - loss: 0.1895 - accuracy: 0.9480 - val_loss: 0.0580 - val_accuracy: 0.9853\n",
      "Epoch 20/20\n",
      "981/981 [==============================] - 67s 68ms/step - loss: 0.2153 - accuracy: 0.9418 - val_loss: 0.0583 - val_accuracy: 0.9833\n"
     ]
    }
   ],
   "source": [
    "epochs = 20\n",
    "history = model.fit(X_train, y_train, batch_size=32, epochs=epochs, validation_data=(X_test, y_test))"
   ]
  },
  {
   "cell_type": "code",
   "execution_count": 19,
   "id": "7a84f2ad",
   "metadata": {
    "scrolled": true
   },
   "outputs": [],
   "source": [
    "model.save(\"./training/TSR.h5\")"
   ]
  },
  {
   "cell_type": "code",
   "execution_count": null,
   "id": "898a6980",
   "metadata": {},
   "outputs": [],
   "source": []
  },
  {
   "cell_type": "code",
   "execution_count": 25,
   "id": "3c52b78a",
   "metadata": {},
   "outputs": [],
   "source": [
    "def testing(testcsv):\n",
    "    y_test = pd.read_csv(testcsv)\n",
    "    label = y_test[\"ClassId\"].values\n",
    "    imgs = y_test[\"Path\"].values\n",
    "    data=[]\n",
    "    for img in imgs:\n",
    "        image = Image.open(img)\n",
    "        image = image.resize((30,30))\n",
    "        data.append(np.array(image))\n",
    "    X_test=np.array(data)\n",
    "    return X_test,label"
   ]
  },
  {
   "cell_type": "code",
   "execution_count": 26,
   "id": "4b891639",
   "metadata": {
    "scrolled": false
   },
   "outputs": [],
   "source": [
    "X_test, label = testing('Test.csv')"
   ]
  },
  {
   "cell_type": "code",
   "execution_count": 37,
   "id": "58e55f72",
   "metadata": {
    "scrolled": true
   },
   "outputs": [
    {
     "name": "stdout",
     "output_type": "stream",
     "text": [
      "395/395 [==============================] - 6s 16ms/step\n"
     ]
    }
   ],
   "source": [
    "Y_pred=model.predict(X_test) \n",
    "classes_x=np.argmax(Y_pred,axis=1)\n"
   ]
  },
  {
   "cell_type": "code",
   "execution_count": 38,
   "id": "69ed1b6f",
   "metadata": {},
   "outputs": [
    {
     "data": {
      "text/plain": [
       "array([16,  1, 38, ..., 32,  7, 10], dtype=int64)"
      ]
     },
     "execution_count": 38,
     "metadata": {},
     "output_type": "execute_result"
    }
   ],
   "source": [
    "classes_x"
   ]
  },
  {
   "cell_type": "code",
   "execution_count": 39,
   "id": "1eeae535",
   "metadata": {},
   "outputs": [
    {
     "data": {
      "text/plain": [
       "0.9491686460807601"
      ]
     },
     "execution_count": 39,
     "metadata": {},
     "output_type": "execute_result"
    }
   ],
   "source": [
    "from sklearn.metrics import accuracy_score\n",
    "accuracy_score(label,classes_x)"
   ]
  },
  {
   "cell_type": "code",
   "execution_count": 40,
   "id": "7533effa",
   "metadata": {},
   "outputs": [],
   "source": [
    "model.save(\"./training/TSR.h5\")"
   ]
  },
  {
   "cell_type": "code",
   "execution_count": 43,
   "id": "2b17436b",
   "metadata": {},
   "outputs": [],
   "source": [
    "import os\n",
    "os.chdir(\"C:\\TrafficSign\")\n",
    "from keras.models import load_model\n",
    "model = load_model('./training/TSR.h5')"
   ]
  },
  {
   "cell_type": "code",
   "execution_count": 44,
   "id": "e0728655",
   "metadata": {},
   "outputs": [],
   "source": [
    "classes = { 0:'Speed limit (20km/h)',\n",
    "            1:'Speed limit (30km/h)',\n",
    "            2:'Speed limit (50km/h)',\n",
    "            3:'Speed limit (60km/h)',\n",
    "            4:'Speed limit (70km/h)',\n",
    "            5:'Speed limit (80km/h)',\n",
    "            6:'End of speed limit (80km/h)',\n",
    "            7:'Speed limit (100km/h)',\n",
    "            8:'Speed limit (120km/h)',\n",
    "            9:'No passing',\n",
    "            10:'No passing veh over 3.5 tons',\n",
    "            11:'Right-of-way at intersection',\n",
    "            12:'Priority road',\n",
    "            13:'Yield',\n",
    "            14:'Stop',\n",
    "            15:'No vehicles',\n",
    "            16:'Vehicle > 3.5 tons prohibited',\n",
    "            17:'No entry',\n",
    "            18:'General caution',\n",
    "            19:'Dangerous curve left',\n",
    "            20:'Dangerous curve right',\n",
    "            21:'Double curve',\n",
    "            22:'Bumpy road',\n",
    "            23:'Slippery road',\n",
    "            24:'Road narrows on the right',\n",
    "            25:'Road work',\n",
    "            26:'Traffic signals',\n",
    "            27:'Pedestrians',\n",
    "            28:'Children crossing',\n",
    "            29:'Bicycles crossing',\n",
    "            30:'Beware of ice/snow',\n",
    "            31:'Wild animals crossing',\n",
    "            32:'End speed + passing limits',\n",
    "            33:'Turn right ahead',\n",
    "            34:'Turn left ahead',\n",
    "            35:'Ahead only',\n",
    "            36:'Go straight or right',\n",
    "            37:'Go straight or left',\n",
    "            38:'Keep right',\n",
    "            39:'Keep left',\n",
    "            40:'Roundabout mandatory',\n",
    "            41:'End of no passing',\n",
    "            42:'End no passing vehicle > 3.5 tons' }\n"
   ]
  },
  {
   "cell_type": "code",
   "execution_count": 53,
   "id": "fc0f9519",
   "metadata": {},
   "outputs": [],
   "source": [
    "from PIL import Image\n",
    "import numpy as np\n",
    "import matplotlib.pyplot as plt\n",
    "def test_on_img(img):\n",
    "    data=[]\n",
    "    image = Image.open(img)\n",
    "    image = image.resize((30,30))\n",
    "    data.append(np.array(image))\n",
    "    X_test=np.array(data)\n",
    "    Y_pred=model.predict(X_test) \n",
    "    classes_x=np.argmax(Y_pred,axis=1)\n",
    "    return image,classes_x"
   ]
  },
  {
   "cell_type": "code",
   "execution_count": 56,
   "id": "d5e330f6",
   "metadata": {},
   "outputs": [
    {
     "name": "stdout",
     "output_type": "stream",
     "text": [
      "1/1 [==============================] - 0s 18ms/step\n",
      "Predicted traffic sign is:  General caution\n"
     ]
    },
    {
     "data": {
      "image/png": "[encoded data removed]",
      "text/plain": [
       "<Figure size 432x288 with 1 Axes>"
      ]
     },
     "metadata": {
      "needs_background": "light"
     },
     "output_type": "display_data"
    }
   ],
   "source": [
    "plot,prediction = test_on_img(r'C:\\TrafficSign\\Test\\00006.png')\n",
    "s = [str(i) for i in prediction] \n",
    "a = int(\"\".join(s)) \n",
    "print(\"Predicted traffic sign is: \", classes[a])\n",
    "plt.imshow(plot)\n",
    "plt.show()"
   ]
  },
  {
   "cell_type": "code",
   "execution_count": null,
   "id": "ecea326d",
   "metadata": {},
   "outputs": [],
   "source": []
  }
 ],
 "metadata": {
  "kernelspec": {
   "display_name": "Python 3 (ipykernel)",
   "language": "python",
   "name": "python3"
  },
  "language_info": {
   "codemirror_mode": {
    "name": "ipython",
    "version": 3
   },
   "file_extension": ".py",
   "mimetype": "text/x-python",
   "name": "python",
   "nbconvert_exporter": "python",
   "pygments_lexer": "ipython3",
   "version": "3.10.4"
  }
 },
 "nbformat": 4,
 "nbformat_minor": 5
}
